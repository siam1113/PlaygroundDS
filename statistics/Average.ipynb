{
 "cells": [
  {
   "cell_type": "code",
   "execution_count": 13,
   "metadata": {},
   "outputs": [],
   "source": [
    "import numpy as np\n",
    "import pandas as pd\n",
    "from statistics import multimode"
   ]
  },
  {
   "cell_type": "code",
   "execution_count": 14,
   "metadata": {},
   "outputs": [
    {
     "name": "stdout",
     "output_type": "stream",
     "text": [
      "randArray = [4 1 9 0 8 3 9 4 4 1]\n"
     ]
    }
   ],
   "source": [
    "# Creating a array of 20 random numbers between 0 to 200\n",
    "randArray = np.random.randint(10 ,size=10)\n",
    "print(f\"randArray = {randArray}\")"
   ]
  },
  {
   "cell_type": "code",
   "execution_count": 15,
   "metadata": {},
   "outputs": [
    {
     "name": "stdout",
     "output_type": "stream",
     "text": [
      "Mean of 'randArray' = 4.3\n"
     ]
    }
   ],
   "source": [
    "# Mean of 'randArray'\n",
    "meanOfRandArray = randArray.mean()\n",
    "print(f\"Mean of 'randArray' = {meanOfRandArray}\")"
   ]
  },
  {
   "cell_type": "code",
   "execution_count": 16,
   "metadata": {},
   "outputs": [
    {
     "name": "stdout",
     "output_type": "stream",
     "text": [
      "Median of 'randArray' = 4.0\n"
     ]
    }
   ],
   "source": [
    "# Median of 'randArray'\n",
    "medianOfRandArray = np.median(randArray)\n",
    "print(f\"Median of 'randArray' = {medianOfRandArray}\")"
   ]
  },
  {
   "cell_type": "code",
   "execution_count": 17,
   "metadata": {},
   "outputs": [
    {
     "name": "stdout",
     "output_type": "stream",
     "text": [
      "Mode of 'randArray' = [4]\n"
     ]
    }
   ],
   "source": [
    "# Mode of 'randArray'\n",
    "modeOfRandArray = multimode(randArray)\n",
    "print(f\"Mode of 'randArray' = {modeOfRandArray}\")"
   ]
  },
  {
   "cell_type": "code",
   "execution_count": 22,
   "metadata": {},
   "outputs": [
    {
     "name": "stdout",
     "output_type": "stream",
     "text": [
      "Range = (0 - 9)\n"
     ]
    }
   ],
   "source": [
    "# Range of 'randArray' \n",
    "maxNum = randArray.max()\n",
    "minNum = randArray.min()\n",
    "print(f\"Range = ({minNum} - {maxNum})\")"
   ]
  }
 ],
 "metadata": {
  "kernelspec": {
   "display_name": "Python 3.10.7 ('PlaygroundForDS': venv)",
   "language": "python",
   "name": "python3"
  },
  "language_info": {
   "codemirror_mode": {
    "name": "ipython",
    "version": 3
   },
   "file_extension": ".py",
   "mimetype": "text/x-python",
   "name": "python",
   "nbconvert_exporter": "python",
   "pygments_lexer": "ipython3",
   "version": "3.10.7"
  },
  "orig_nbformat": 4,
  "vscode": {
   "interpreter": {
    "hash": "878dc30b7024199a0f20819ad654e13316d6a83aca6994ba1115876a54ff41a6"
   }
  }
 },
 "nbformat": 4,
 "nbformat_minor": 2
}
