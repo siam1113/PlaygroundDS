{
 "cells": [
  {
   "cell_type": "code",
   "execution_count": 1,
   "id": "ff059580-8ac6-473d-b61c-2fdc0630d2f3",
   "metadata": {},
   "outputs": [],
   "source": [
    "import pandas as pd"
   ]
  },
  {
   "cell_type": "code",
   "execution_count": 18,
   "id": "ae0c3d12-f107-4cf6-9a25-0d4bc16ed82f",
   "metadata": {},
   "outputs": [],
   "source": [
    "# Read the text file\n",
    "df = pd.read_csv(r\"C:\\\\Users\\\\HP\\\\Downloads\\\\unsed pv from all the pods.txt\", sep=\" \", header=None)"
   ]
  },
  {
   "cell_type": "code",
   "execution_count": 26,
   "id": "94845aa8-7921-45d5-9c24-cd8b72874bd0",
   "metadata": {},
   "outputs": [
    {
     "name": "stdout",
     "output_type": "stream",
     "text": [
      "Int64Index([ 0,  1,  2,  3,  4,  5,  6,  7,  8,  9, 10, 11, 12, 13, 14, 15, 16,\n",
      "            17, 18, 19, 20, 21, 22, 23, 24, 25, 26, 27, 28, 29, 30, 31, 32, 33,\n",
      "            34, 35, 36, 37, 38, 39, 40, 41, 42, 43, 44, 45, 46, 47, 48, 49, 50,\n",
      "            51, 52, 53, 54, 55, 56, 57, 58, 59, 60, 61, 62, 63, 64],\n",
      "           dtype='int64')\n"
     ]
    }
   ],
   "source": [
    "# Reading the first column from the dataframe\n",
    "print(df[0])"
   ]
  },
  {
   "cell_type": "code",
   "execution_count": null,
   "id": "c4efc590-99e2-4584-839f-8f1895ca62fd",
   "metadata": {},
   "outputs": [],
   "source": []
  }
 ],
 "metadata": {
  "kernelspec": {
   "display_name": "Python 3 (ipykernel)",
   "language": "python",
   "name": "python3"
  },
  "language_info": {
   "codemirror_mode": {
    "name": "ipython",
    "version": 3
   },
   "file_extension": ".py",
   "mimetype": "text/x-python",
   "name": "python",
   "nbconvert_exporter": "python",
   "pygments_lexer": "ipython3",
   "version": "3.10.7"
  }
 },
 "nbformat": 4,
 "nbformat_minor": 5
}
